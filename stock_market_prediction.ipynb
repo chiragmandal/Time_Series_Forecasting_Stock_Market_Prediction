{
 "cells": [
  {
   "cell_type": "markdown",
   "id": "59083958",
   "metadata": {},
   "source": [
    "# Stock Market Prediction using LSTM"
   ]
  },
  {
   "cell_type": "markdown",
   "id": "63b77e7a",
   "metadata": {},
   "source": [
    "## Importing Libraries"
   ]
  },
  {
   "cell_type": "code",
   "execution_count": 1,
   "id": "75ea7060",
   "metadata": {},
   "outputs": [],
   "source": [
    "import pandas as pd\n",
    "import numpy as np\n",
    "%matplotlib inline\n",
    "import matplotlib. pyplot as plt\n",
    "import matplotlib\n",
    "from sklearn.preprocessing import MinMaxScaler\n",
    "from keras. layers import LSTM, Dense, Dropout\n",
    "from sklearn.model_selection import TimeSeriesSplit\n",
    "from sklearn.metrics import mean_squared_error, r2_score\n",
    "import matplotlib. dates as mandates\n",
    "from sklearn.preprocessing import MinMaxScaler\n",
    "from sklearn import linear_model\n",
    "from keras.models import Sequential\n",
    "from keras.layers import Dense\n",
    "import keras.backend as K\n",
    "from keras.callbacks import EarlyStopping\n",
    "from keras.optimizers.legacy import adam\n",
    "from keras.models import load_model\n",
    "from keras.layers import LSTM\n",
    "from keras.utils.vis_utils import plot_model"
   ]
  },
  {
   "cell_type": "markdown",
   "id": "5b198499",
   "metadata": {},
   "source": [
    "## Reading the dataset"
   ]
  },
  {
   "cell_type": "code",
   "execution_count": 2,
   "id": "f3fc3c1f",
   "metadata": {},
   "outputs": [
    {
     "data": {
      "text/plain": [
       "['.DS_Store',\n",
       " 'msft.csv',\n",
       " 'nifty_it_index.csv',\n",
       " 'infy_stock.csv',\n",
       " 'tcs_stock.csv']"
      ]
     },
     "execution_count": 2,
     "metadata": {},
     "output_type": "execute_result"
    }
   ],
   "source": [
    "import os\n",
    "os.chdir('stock_data')  \n",
    "os.listdir()"
   ]
  },
  {
   "cell_type": "code",
   "execution_count": 3,
   "id": "414e440a",
   "metadata": {},
   "outputs": [
    {
     "data": {
      "text/html": [
       "<div>\n",
       "<style scoped>\n",
       "    .dataframe tbody tr th:only-of-type {\n",
       "        vertical-align: middle;\n",
       "    }\n",
       "\n",
       "    .dataframe tbody tr th {\n",
       "        vertical-align: top;\n",
       "    }\n",
       "\n",
       "    .dataframe thead th {\n",
       "        text-align: right;\n",
       "    }\n",
       "</style>\n",
       "<table border=\"1\" class=\"dataframe\">\n",
       "  <thead>\n",
       "    <tr style=\"text-align: right;\">\n",
       "      <th></th>\n",
       "      <th>Open</th>\n",
       "      <th>High</th>\n",
       "      <th>Low</th>\n",
       "      <th>Close</th>\n",
       "      <th>Adj Close</th>\n",
       "      <th>Volume</th>\n",
       "    </tr>\n",
       "    <tr>\n",
       "      <th>Date</th>\n",
       "      <th></th>\n",
       "      <th></th>\n",
       "      <th></th>\n",
       "      <th></th>\n",
       "      <th></th>\n",
       "      <th></th>\n",
       "    </tr>\n",
       "  </thead>\n",
       "  <tbody>\n",
       "    <tr>\n",
       "      <th>1986-03-13</th>\n",
       "      <td>0.088542</td>\n",
       "      <td>0.101563</td>\n",
       "      <td>0.088542</td>\n",
       "      <td>0.097222</td>\n",
       "      <td>0.061434</td>\n",
       "      <td>1031788800</td>\n",
       "    </tr>\n",
       "    <tr>\n",
       "      <th>1986-03-14</th>\n",
       "      <td>0.097222</td>\n",
       "      <td>0.102431</td>\n",
       "      <td>0.097222</td>\n",
       "      <td>0.100694</td>\n",
       "      <td>0.063628</td>\n",
       "      <td>308160000</td>\n",
       "    </tr>\n",
       "    <tr>\n",
       "      <th>1986-03-17</th>\n",
       "      <td>0.100694</td>\n",
       "      <td>0.103299</td>\n",
       "      <td>0.100694</td>\n",
       "      <td>0.102431</td>\n",
       "      <td>0.064725</td>\n",
       "      <td>133171200</td>\n",
       "    </tr>\n",
       "    <tr>\n",
       "      <th>1986-03-18</th>\n",
       "      <td>0.102431</td>\n",
       "      <td>0.103299</td>\n",
       "      <td>0.098958</td>\n",
       "      <td>0.099826</td>\n",
       "      <td>0.063079</td>\n",
       "      <td>67766400</td>\n",
       "    </tr>\n",
       "    <tr>\n",
       "      <th>1986-03-19</th>\n",
       "      <td>0.099826</td>\n",
       "      <td>0.100694</td>\n",
       "      <td>0.097222</td>\n",
       "      <td>0.098090</td>\n",
       "      <td>0.061982</td>\n",
       "      <td>47894400</td>\n",
       "    </tr>\n",
       "  </tbody>\n",
       "</table>\n",
       "</div>"
      ],
      "text/plain": [
       "                Open      High       Low     Close  Adj Close      Volume\n",
       "Date                                                                     \n",
       "1986-03-13  0.088542  0.101563  0.088542  0.097222   0.061434  1031788800\n",
       "1986-03-14  0.097222  0.102431  0.097222  0.100694   0.063628   308160000\n",
       "1986-03-17  0.100694  0.103299  0.100694  0.102431   0.064725   133171200\n",
       "1986-03-18  0.102431  0.103299  0.098958  0.099826   0.063079    67766400\n",
       "1986-03-19  0.099826  0.100694  0.097222  0.098090   0.061982    47894400"
      ]
     },
     "execution_count": 3,
     "metadata": {},
     "output_type": "execute_result"
    }
   ],
   "source": [
    "#Get the Dataset\n",
    "df=pd.read_csv('msft.csv',na_values=['null'],index_col='Date',parse_dates=True,infer_datetime_format=True)\n",
    "df.head()"
   ]
  },
  {
   "cell_type": "markdown",
   "id": "23b2762f",
   "metadata": {},
   "source": [
    "## Dataset Inspection"
   ]
  },
  {
   "cell_type": "code",
   "execution_count": 4,
   "id": "54152b29",
   "metadata": {},
   "outputs": [
    {
     "name": "stdout",
     "output_type": "stream",
     "text": [
      "Dataframe Shape:  (9083, 6)\n",
      "Null Value Present:  False\n"
     ]
    }
   ],
   "source": [
    "#Print the shape of Dataframe  and Check for Null Values\n",
    "print(\"Dataframe Shape: \", df. shape)\n",
    "print(\"Null Value Present: \", df.isnull().values.any())"
   ]
  },
  {
   "cell_type": "markdown",
   "id": "be3e8093",
   "metadata": {},
   "source": [
    "## Plotting the Adjusted Closing value"
   ]
  },
  {
   "cell_type": "code",
   "execution_count": 5,
   "id": "8cea7d86",
   "metadata": {},
   "outputs": [
    {
     "data": {
      "text/plain": [
       "<AxesSubplot: xlabel='Date'>"
      ]
     },
     "execution_count": 5,
     "metadata": {},
     "output_type": "execute_result"
    },
    {
     "data": {
      "image/png": "[encoded data removed]",
      "text/plain": [
       "<Figure size 640x480 with 1 Axes>"
      ]
     },
     "metadata": {},
     "output_type": "display_data"
    }
   ],
   "source": [
    "df['Adj Close'].plot()"
   ]
  },
  {
   "cell_type": "markdown",
   "id": "9b69c4ca",
   "metadata": {},
   "source": [
    "## Setting the Target Variable and using Feature Transform"
   ]
  },
  {
   "cell_type": "code",
   "execution_count": 6,
   "id": "b289e738",
   "metadata": {},
   "outputs": [],
   "source": [
    "#Set Target Variable\n",
    "output_var = pd.DataFrame(df['Adj Close'])\n",
    "#Selecting the Features\n",
    "features = ['Open', 'High', 'Low', 'Volume']"
   ]
  },
  {
   "cell_type": "code",
   "execution_count": 7,
   "id": "138332c1",
   "metadata": {},
   "outputs": [
    {
     "data": {
      "text/html": [
       "<div>\n",
       "<style scoped>\n",
       "    .dataframe tbody tr th:only-of-type {\n",
       "        vertical-align: middle;\n",
       "    }\n",
       "\n",
       "    .dataframe tbody tr th {\n",
       "        vertical-align: top;\n",
       "    }\n",
       "\n",
       "    .dataframe thead th {\n",
       "        text-align: right;\n",
       "    }\n",
       "</style>\n",
       "<table border=\"1\" class=\"dataframe\">\n",
       "  <thead>\n",
       "    <tr style=\"text-align: right;\">\n",
       "      <th></th>\n",
       "      <th>Open</th>\n",
       "      <th>High</th>\n",
       "      <th>Low</th>\n",
       "      <th>Volume</th>\n",
       "    </tr>\n",
       "    <tr>\n",
       "      <th>Date</th>\n",
       "      <th></th>\n",
       "      <th></th>\n",
       "      <th></th>\n",
       "      <th></th>\n",
       "    </tr>\n",
       "  </thead>\n",
       "  <tbody>\n",
       "    <tr>\n",
       "      <th>1986-03-13</th>\n",
       "      <td>0.000000</td>\n",
       "      <td>0.000027</td>\n",
       "      <td>0.000000</td>\n",
       "      <td>1.000000</td>\n",
       "    </tr>\n",
       "    <tr>\n",
       "      <th>1986-03-14</th>\n",
       "      <td>0.000025</td>\n",
       "      <td>0.000030</td>\n",
       "      <td>0.000025</td>\n",
       "      <td>0.297096</td>\n",
       "    </tr>\n",
       "    <tr>\n",
       "      <th>1986-03-17</th>\n",
       "      <td>0.000035</td>\n",
       "      <td>0.000032</td>\n",
       "      <td>0.000036</td>\n",
       "      <td>0.127119</td>\n",
       "    </tr>\n",
       "    <tr>\n",
       "      <th>1986-03-18</th>\n",
       "      <td>0.000040</td>\n",
       "      <td>0.000032</td>\n",
       "      <td>0.000030</td>\n",
       "      <td>0.063588</td>\n",
       "    </tr>\n",
       "    <tr>\n",
       "      <th>1986-03-19</th>\n",
       "      <td>0.000033</td>\n",
       "      <td>0.000025</td>\n",
       "      <td>0.000025</td>\n",
       "      <td>0.044285</td>\n",
       "    </tr>\n",
       "  </tbody>\n",
       "</table>\n",
       "</div>"
      ],
      "text/plain": [
       "                Open      High       Low    Volume\n",
       "Date                                              \n",
       "1986-03-13  0.000000  0.000027  0.000000  1.000000\n",
       "1986-03-14  0.000025  0.000030  0.000025  0.297096\n",
       "1986-03-17  0.000035  0.000032  0.000036  0.127119\n",
       "1986-03-18  0.000040  0.000032  0.000030  0.063588\n",
       "1986-03-19  0.000033  0.000025  0.000025  0.044285"
      ]
     },
     "execution_count": 7,
     "metadata": {},
     "output_type": "execute_result"
    }
   ],
   "source": [
    "#Scaling\n",
    "scaler = MinMaxScaler()\n",
    "feature_transform = scaler.fit_transform(df[features])\n",
    "feature_transform= pd.DataFrame(columns=features, data=feature_transform, index=df.index)\n",
    "feature_transform.head()"
   ]
  },
  {
   "cell_type": "markdown",
   "id": "1ce58f8b",
   "metadata": {},
   "source": [
    "## Splitting the dataset into Training and Testing"
   ]
  },
  {
   "cell_type": "code",
   "execution_count": 8,
   "id": "4277ccbc",
   "metadata": {},
   "outputs": [],
   "source": [
    "#Splitting to Training set and Test set\n",
    "timesplit= TimeSeriesSplit(n_splits=10)\n",
    "for train_index, test_index in timesplit.split(feature_transform):\n",
    "        X_train, X_test = feature_transform[:len(train_index)], feature_transform[len(train_index): (len(train_index)+len(test_index))]\n",
    "        y_train, y_test = output_var[:len(train_index)].values.ravel(), output_var[len(train_index): (len(train_index)+len(test_index))].values.ravel()"
   ]
  },
  {
   "cell_type": "markdown",
   "id": "7f70366e",
   "metadata": {},
   "source": [
    "## Preparing the Data for LSTM"
   ]
  },
  {
   "cell_type": "code",
   "execution_count": 9,
   "id": "078fb8f2",
   "metadata": {},
   "outputs": [],
   "source": [
    "#Process the data for LSTM\n",
    "trainX =np.array(X_train)\n",
    "testX =np.array(X_test)\n",
    "X_train = trainX.reshape(X_train.shape[0], 1, X_train.shape[1])\n",
    "X_test = testX.reshape(X_test.shape[0], 1, X_test.shape[1])"
   ]
  },
  {
   "cell_type": "markdown",
   "id": "58c80b8e",
   "metadata": {},
   "source": [
    "## Model Building "
   ]
  },
  {
   "cell_type": "code",
   "execution_count": 10,
   "id": "f4847db3",
   "metadata": {},
   "outputs": [
    {
     "name": "stdout",
     "output_type": "stream",
     "text": [
      "Metal device set to: Apple M1 Pro\n",
      "WARNING:tensorflow:Layer lstm will not use cuDNN kernels since it doesn't meet the criteria. It will use a generic GPU kernel as fallback when running on GPU.\n"
     ]
    },
    {
     "name": "stderr",
     "output_type": "stream",
     "text": [
      "2023-02-02 14:21:00.056317: I tensorflow/core/common_runtime/pluggable_device/pluggable_device_factory.cc:305] Could not identify NUMA node of platform GPU ID 0, defaulting to 0. Your kernel may not have been built with NUMA support.\n",
      "2023-02-02 14:21:00.056461: I tensorflow/core/common_runtime/pluggable_device/pluggable_device_factory.cc:271] Created TensorFlow device (/job:localhost/replica:0/task:0/device:GPU:0 with 0 MB memory) -> physical PluggableDevice (device: 0, name: METAL, pci bus id: <undefined>)\n"
     ]
    },
    {
     "name": "stdout",
     "output_type": "stream",
     "text": [
      "You must install pydot (`pip install pydot`) and install graphviz (see instructions at https://graphviz.gitlab.io/download/) for plot_model/model_to_dot to work.\n"
     ]
    }
   ],
   "source": [
    "#Building the LSTM Model\n",
    "lstm = Sequential()\n",
    "lstm.add(LSTM(32, input_shape=(1, trainX.shape[1]), activation='relu', return_sequences=False))\n",
    "lstm.add(Dense(1))\n",
    "lstm.compile(loss='mean_squared_error', optimizer='adam')\n",
    "plot_model(lstm, show_shapes=True, show_layer_names=True)"
   ]
  },
  {
   "cell_type": "markdown",
   "id": "fbfe4aa0",
   "metadata": {},
   "source": [
    "## Model Training"
   ]
  },
  {
   "cell_type": "code",
   "execution_count": 11,
   "id": "2c6077a1",
   "metadata": {},
   "outputs": [
    {
     "name": "stdout",
     "output_type": "stream",
     "text": [
      "Epoch 1/100\n"
     ]
    },
    {
     "name": "stderr",
     "output_type": "stream",
     "text": [
      "2023-02-02 14:21:00.310261: W tensorflow/core/platform/profile_utils/cpu_utils.cc:128] Failed to get CPU frequency: 0 Hz\n",
      "2023-02-02 14:21:00.761623: I tensorflow/core/grappler/optimizers/custom_graph_optimizer_registry.cc:113] Plugin optimizer for device_type GPU is enabled.\n"
     ]
    },
    {
     "name": "stdout",
     "output_type": "stream",
     "text": [
      "1033/1033 [==============================] - 14s 12ms/step - loss: 66.5244\n",
      "Epoch 2/100\n",
      "1033/1033 [==============================] - 13s 12ms/step - loss: 215.5645\n",
      "Epoch 3/100\n",
      "1033/1033 [==============================] - 12s 12ms/step - loss: 137.1705\n",
      "Epoch 4/100\n",
      "1033/1033 [==============================] - 12s 12ms/step - loss: 74.2472\n",
      "Epoch 5/100\n",
      "1033/1033 [==============================] - 13s 12ms/step - loss: 35.1443\n",
      "Epoch 6/100\n",
      "1033/1033 [==============================] - 13s 12ms/step - loss: 13.5083\n",
      "Epoch 7/100\n",
      "1033/1033 [==============================] - 13s 12ms/step - loss: 4.9431\n",
      "Epoch 8/100\n",
      "1033/1033 [==============================] - 13s 12ms/step - loss: 2.5278\n",
      "Epoch 9/100\n",
      "1033/1033 [==============================] - 13s 12ms/step - loss: 1.7249\n",
      "Epoch 10/100\n",
      "1033/1033 [==============================] - 13s 12ms/step - loss: 1.3134\n",
      "Epoch 11/100\n",
      "1033/1033 [==============================] - 13s 12ms/step - loss: 1.0763\n",
      "Epoch 12/100\n",
      "1033/1033 [==============================] - 13s 12ms/step - loss: 0.9467\n",
      "Epoch 13/100\n",
      "1033/1033 [==============================] - 13s 12ms/step - loss: 0.8807\n",
      "Epoch 14/100\n",
      "1033/1033 [==============================] - 13s 12ms/step - loss: 0.8485\n",
      "Epoch 15/100\n",
      "1033/1033 [==============================] - 13s 12ms/step - loss: 0.8333\n",
      "Epoch 16/100\n",
      "1033/1033 [==============================] - 13s 13ms/step - loss: 0.8264\n",
      "Epoch 17/100\n",
      "1033/1033 [==============================] - 13s 12ms/step - loss: 0.8237\n",
      "Epoch 18/100\n",
      "1033/1033 [==============================] - 13s 12ms/step - loss: 0.8231\n",
      "Epoch 19/100\n",
      "1033/1033 [==============================] - 13s 12ms/step - loss: 0.8236\n",
      "Epoch 20/100\n",
      "1033/1033 [==============================] - 13s 12ms/step - loss: 0.8247\n",
      "Epoch 21/100\n",
      "1033/1033 [==============================] - 13s 12ms/step - loss: 0.8260\n",
      "Epoch 22/100\n",
      "1033/1033 [==============================] - 13s 12ms/step - loss: 0.8274\n",
      "Epoch 23/100\n",
      "1033/1033 [==============================] - 13s 12ms/step - loss: 0.8288\n",
      "Epoch 24/100\n",
      "1033/1033 [==============================] - 13s 12ms/step - loss: 0.8302\n",
      "Epoch 25/100\n",
      "1033/1033 [==============================] - 13s 12ms/step - loss: 0.8315\n",
      "Epoch 26/100\n",
      "1033/1033 [==============================] - 13s 13ms/step - loss: 0.8328\n",
      "Epoch 27/100\n",
      "1033/1033 [==============================] - 13s 13ms/step - loss: 0.8341\n",
      "Epoch 28/100\n",
      "1033/1033 [==============================] - 13s 12ms/step - loss: 0.8353\n",
      "Epoch 29/100\n",
      "1033/1033 [==============================] - 13s 13ms/step - loss: 0.8364\n",
      "Epoch 30/100\n",
      "1033/1033 [==============================] - 13s 12ms/step - loss: 0.8375\n",
      "Epoch 31/100\n",
      "1033/1033 [==============================] - 13s 13ms/step - loss: 0.8386\n",
      "Epoch 32/100\n",
      "1033/1033 [==============================] - 12s 12ms/step - loss: 0.8396\n",
      "Epoch 33/100\n",
      "1033/1033 [==============================] - 13s 12ms/step - loss: 0.8405\n",
      "Epoch 34/100\n",
      "1033/1033 [==============================] - 13s 12ms/step - loss: 0.8414\n",
      "Epoch 35/100\n",
      "1033/1033 [==============================] - 13s 12ms/step - loss: 0.8423\n",
      "Epoch 36/100\n",
      "1033/1033 [==============================] - 13s 12ms/step - loss: 0.8431\n",
      "Epoch 37/100\n",
      "1033/1033 [==============================] - 13s 12ms/step - loss: 0.8439\n",
      "Epoch 38/100\n",
      "1033/1033 [==============================] - 13s 12ms/step - loss: 0.8447\n",
      "Epoch 39/100\n",
      "1033/1033 [==============================] - 13s 12ms/step - loss: 0.8454\n",
      "Epoch 40/100\n",
      "1033/1033 [==============================] - 13s 12ms/step - loss: 0.8461\n",
      "Epoch 41/100\n",
      "1033/1033 [==============================] - 13s 12ms/step - loss: 0.8467\n",
      "Epoch 42/100\n",
      "1033/1033 [==============================] - 13s 12ms/step - loss: 0.8473\n",
      "Epoch 43/100\n",
      "1033/1033 [==============================] - 13s 12ms/step - loss: 0.8479\n",
      "Epoch 44/100\n",
      "1033/1033 [==============================] - 13s 12ms/step - loss: 0.8485\n",
      "Epoch 45/100\n",
      "1033/1033 [==============================] - 13s 12ms/step - loss: 0.8490\n",
      "Epoch 46/100\n",
      "1033/1033 [==============================] - 13s 12ms/step - loss: 0.8495\n",
      "Epoch 47/100\n",
      "1033/1033 [==============================] - 13s 12ms/step - loss: 0.8500\n",
      "Epoch 48/100\n",
      "1033/1033 [==============================] - 13s 12ms/step - loss: 0.8504\n",
      "Epoch 49/100\n",
      "1033/1033 [==============================] - 13s 12ms/step - loss: 0.8509\n",
      "Epoch 50/100\n",
      "1033/1033 [==============================] - 13s 12ms/step - loss: 0.8513\n",
      "Epoch 51/100\n",
      "1033/1033 [==============================] - 13s 12ms/step - loss: 0.8516\n",
      "Epoch 52/100\n",
      "1033/1033 [==============================] - 12s 12ms/step - loss: 0.8520\n",
      "Epoch 53/100\n",
      "1033/1033 [==============================] - 13s 12ms/step - loss: 0.8524\n",
      "Epoch 54/100\n",
      "1033/1033 [==============================] - 12s 12ms/step - loss: 0.8527\n",
      "Epoch 55/100\n",
      "1033/1033 [==============================] - 12s 12ms/step - loss: 0.8530\n",
      "Epoch 56/100\n",
      "1033/1033 [==============================] - 13s 12ms/step - loss: 0.8533\n",
      "Epoch 57/100\n",
      "1033/1033 [==============================] - 12s 12ms/step - loss: 0.8536\n",
      "Epoch 58/100\n",
      "1033/1033 [==============================] - 12s 12ms/step - loss: 0.8538\n",
      "Epoch 59/100\n",
      "1033/1033 [==============================] - 13s 12ms/step - loss: 0.8541\n",
      "Epoch 60/100\n",
      "1033/1033 [==============================] - 12s 12ms/step - loss: 0.8543\n",
      "Epoch 61/100\n",
      "1033/1033 [==============================] - 12s 12ms/step - loss: 0.8545\n",
      "Epoch 62/100\n",
      "1033/1033 [==============================] - 12s 12ms/step - loss: 0.8547\n",
      "Epoch 63/100\n",
      "1033/1033 [==============================] - 12s 12ms/step - loss: 0.8549\n",
      "Epoch 64/100\n",
      "1033/1033 [==============================] - 12s 12ms/step - loss: 0.8551\n",
      "Epoch 65/100\n",
      "1033/1033 [==============================] - 12s 12ms/step - loss: 0.8552\n",
      "Epoch 66/100\n",
      "1033/1033 [==============================] - 12s 12ms/step - loss: 0.8554\n",
      "Epoch 67/100\n",
      "1033/1033 [==============================] - 12s 12ms/step - loss: 0.8555\n",
      "Epoch 68/100\n",
      "1033/1033 [==============================] - 12s 12ms/step - loss: 0.8557\n",
      "Epoch 69/100\n",
      "1033/1033 [==============================] - 12s 12ms/step - loss: 0.8558\n",
      "Epoch 70/100\n",
      "1033/1033 [==============================] - 13s 12ms/step - loss: 0.8559\n",
      "Epoch 71/100\n",
      "1033/1033 [==============================] - 13s 13ms/step - loss: 0.8560\n",
      "Epoch 72/100\n",
      "1033/1033 [==============================] - 13s 13ms/step - loss: 0.8561\n",
      "Epoch 73/100\n",
      "1033/1033 [==============================] - 12s 12ms/step - loss: 0.8562\n",
      "Epoch 74/100\n",
      "1033/1033 [==============================] - 13s 12ms/step - loss: 0.8563\n",
      "Epoch 75/100\n",
      "1033/1033 [==============================] - 13s 13ms/step - loss: 0.8564\n",
      "Epoch 76/100\n",
      "1033/1033 [==============================] - 13s 13ms/step - loss: 0.8564\n",
      "Epoch 77/100\n",
      "1033/1033 [==============================] - 13s 12ms/step - loss: 0.8565\n",
      "Epoch 78/100\n",
      "1033/1033 [==============================] - 13s 13ms/step - loss: 0.8566\n",
      "Epoch 79/100\n",
      "1033/1033 [==============================] - 13s 13ms/step - loss: 0.8566\n",
      "Epoch 80/100\n",
      "1033/1033 [==============================] - 13s 13ms/step - loss: 0.8566\n",
      "Epoch 81/100\n",
      "1033/1033 [==============================] - 12s 12ms/step - loss: 0.8567\n",
      "Epoch 82/100\n",
      "1033/1033 [==============================] - 12s 12ms/step - loss: 0.8567\n",
      "Epoch 83/100\n",
      "1033/1033 [==============================] - 13s 12ms/step - loss: 0.8568\n",
      "Epoch 84/100\n",
      "1033/1033 [==============================] - 12s 12ms/step - loss: 0.8568\n",
      "Epoch 85/100\n",
      "1033/1033 [==============================] - 12s 12ms/step - loss: 0.8568\n",
      "Epoch 86/100\n",
      "1033/1033 [==============================] - 12s 12ms/step - loss: 0.8568\n",
      "Epoch 87/100\n",
      "1033/1033 [==============================] - 13s 12ms/step - loss: 0.8568\n",
      "Epoch 88/100\n",
      "1033/1033 [==============================] - 12s 12ms/step - loss: 0.8569\n",
      "Epoch 89/100\n",
      "1033/1033 [==============================] - 12s 12ms/step - loss: 0.8569\n",
      "Epoch 90/100\n",
      "1033/1033 [==============================] - 12s 12ms/step - loss: 0.8569\n",
      "Epoch 91/100\n",
      "1033/1033 [==============================] - 12s 12ms/step - loss: 0.8569\n",
      "Epoch 92/100\n",
      "1033/1033 [==============================] - 12s 12ms/step - loss: 0.8569\n",
      "Epoch 93/100\n",
      "1033/1033 [==============================] - 12s 12ms/step - loss: 0.8569\n",
      "Epoch 94/100\n",
      "1033/1033 [==============================] - 12s 12ms/step - loss: 0.8569\n",
      "Epoch 95/100\n"
     ]
    },
    {
     "name": "stdout",
     "output_type": "stream",
     "text": [
      "1033/1033 [==============================] - 13s 12ms/step - loss: 0.8569\n",
      "Epoch 96/100\n",
      "1033/1033 [==============================] - 13s 12ms/step - loss: 0.8569\n",
      "Epoch 97/100\n",
      "1033/1033 [==============================] - 13s 12ms/step - loss: 0.8568\n",
      "Epoch 98/100\n",
      "1033/1033 [==============================] - 13s 12ms/step - loss: 0.8568\n",
      "Epoch 99/100\n",
      "1033/1033 [==============================] - 13s 12ms/step - loss: 0.8568\n",
      "Epoch 100/100\n",
      "1033/1033 [==============================] - 12s 12ms/step - loss: 0.8568\n"
     ]
    }
   ],
   "source": [
    "#Model Training\n",
    "history=lstm.fit(X_train, y_train, epochs=100, batch_size=8, verbose=1, shuffle=False)"
   ]
  },
  {
   "cell_type": "markdown",
   "id": "0113f967",
   "metadata": {},
   "source": [
    "## Model Prediction"
   ]
  },
  {
   "cell_type": "code",
   "execution_count": 12,
   "id": "0ee8bf09",
   "metadata": {},
   "outputs": [
    {
     "name": "stdout",
     "output_type": "stream",
     "text": [
      "\r",
      " 1/26 [>.............................] - ETA: 6s"
     ]
    },
    {
     "name": "stderr",
     "output_type": "stream",
     "text": [
      "2023-02-02 14:48:46.687675: I tensorflow/core/grappler/optimizers/custom_graph_optimizer_registry.cc:113] Plugin optimizer for device_type GPU is enabled.\n"
     ]
    },
    {
     "name": "stdout",
     "output_type": "stream",
     "text": [
      "26/26 [==============================] - 0s 5ms/step\n"
     ]
    }
   ],
   "source": [
    "#LSTM Prediction\n",
    "y_pred= lstm.predict(X_test)"
   ]
  },
  {
   "cell_type": "markdown",
   "id": "c935aaad",
   "metadata": {},
   "source": [
    "## Plotting the True and Predicted Adjusted Closing Values"
   ]
  },
  {
   "cell_type": "code",
   "execution_count": 14,
   "id": "2ff25496",
   "metadata": {},
   "outputs": [
    {
     "data": {
      "image/png": "[encoded data removed]",
      "text/plain": [
       "<Figure size 640x480 with 1 Axes>"
      ]
     },
     "metadata": {},
     "output_type": "display_data"
    }
   ],
   "source": [
    "#Predicted vs True Adj Close Value – LSTM\n",
    "plt.plot(y_test, label='True Value')\n",
    "plt.plot(y_pred, label='LSTM Value')\n",
    "plt.title('Prediction by LSTM')\n",
    "plt.xlabel('Time Scale')\n",
    "plt.ylabel('Scaled USD')\n",
    "plt.legend()\n",
    "plt.show()\n"
   ]
  },
  {
   "cell_type": "code",
   "execution_count": null,
   "id": "486143e1",
   "metadata": {},
   "outputs": [],
   "source": []
  }
 ],
 "metadata": {
  "kernelspec": {
   "display_name": "Python 3 (ipykernel)",
   "language": "python",
   "name": "python3"
  },
  "language_info": {
   "codemirror_mode": {
    "name": "ipython",
    "version": 3
   },
   "file_extension": ".py",
   "mimetype": "text/x-python",
   "name": "python",
   "nbconvert_exporter": "python",
   "pygments_lexer": "ipython3",
   "version": "3.8.16"
  }
 },
 "nbformat": 4,
 "nbformat_minor": 5
}
